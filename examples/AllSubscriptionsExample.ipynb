{
 "cells": [
  {
   "cell_type": "markdown",
   "metadata": {},
   "source": [
    "## Quick start: All Subscriptions Example"
   ]
  },
  {
   "cell_type": "markdown",
   "metadata": {},
   "source": [
    "This tutorial aims to show all available subscriptions. You will find a link to the dxfeed knowledge base for each event type.\n",
    "\n",
    "Summary table about all event types is here: https://kb.dxfeed.com/display/DS/Model+of+Event+Publishing"
   ]
  },
  {
   "cell_type": "markdown",
   "metadata": {},
   "source": [
    "### Import package"
   ]
  },
  {
   "cell_type": "code",
   "execution_count": null,
   "metadata": {},
   "outputs": [],
   "source": [
    "import dxfeed as dx\n",
    "from datetime import datetime\n",
    "from dateutil.relativedelta import relativedelta"
   ]
  },
  {
   "cell_type": "markdown",
   "metadata": {},
   "source": [
    "### Configure and create connection with Endpoint class\n",
    "Create instance of Endpoint class which will connect provided address. "
   ]
  },
  {
   "cell_type": "code",
   "execution_count": null,
   "metadata": {},
   "outputs": [],
   "source": [
    "symbols = ['AAPL', 'MSFT']\n",
    "date_time = datetime.now() - relativedelta(days=3)\n",
    "endpoint = dx.Endpoint('demo.dxfeed.com:7300')"
   ]
  },
  {
   "cell_type": "markdown",
   "metadata": {},
   "source": [
    "### Trade\n",
    "Details: https://kb.dxfeed.com/display/DS/dxFeed+API+Market+Events#dxFeedAPIMarketEvents-Trades"
   ]
  },
  {
   "cell_type": "code",
   "execution_count": null,
   "metadata": {},
   "outputs": [],
   "source": [
    "trade_sub = endpoint.create_subscription('Trade').add_symbols(symbols)"
   ]
  },
  {
   "cell_type": "code",
   "execution_count": null,
   "metadata": {},
   "outputs": [],
   "source": [
    "trade_sub.get_event_handler().get_dataframe().head(3)"
   ]
  },
  {
   "cell_type": "markdown",
   "metadata": {},
   "source": [
    "### Quote\n",
    "Details: https://kb.dxfeed.com/display/DS/dxFeed+API+Market+Events#dxFeedAPIMarketEvents-Quote"
   ]
  },
  {
   "cell_type": "code",
   "execution_count": null,
   "metadata": {},
   "outputs": [],
   "source": [
    "quote_sub = endpoint.create_subscription('Quote').add_symbols(symbols)"
   ]
  },
  {
   "cell_type": "code",
   "execution_count": null,
   "metadata": {},
   "outputs": [],
   "source": [
    "quote_sub.get_event_handler().get_dataframe().head(3)"
   ]
  },
  {
   "cell_type": "markdown",
   "metadata": {},
   "source": [
    "### Summary\n",
    "Details: https://kb.dxfeed.com/display/DS/dxFeed+API+Market+Events#dxFeedAPIMarketEvents-Summary"
   ]
  },
  {
   "cell_type": "code",
   "execution_count": null,
   "metadata": {},
   "outputs": [],
   "source": [
    "summary_sub = endpoint.create_subscription('Summary').add_symbols(symbols)"
   ]
  },
  {
   "cell_type": "code",
   "execution_count": null,
   "metadata": {},
   "outputs": [],
   "source": [
    "summary_sub.get_event_handler().get_dataframe().head(3)"
   ]
  },
  {
   "cell_type": "markdown",
   "metadata": {},
   "source": [
    "### Profile\n",
    "Details: https://kb.dxfeed.com/display/DS/dxFeed+API+Market+Events#dxFeedAPIMarketEvents-Meta"
   ]
  },
  {
   "cell_type": "code",
   "execution_count": null,
   "metadata": {},
   "outputs": [],
   "source": [
    "profile_sub = endpoint.create_subscription('Profile').add_symbols(symbols)"
   ]
  },
  {
   "cell_type": "code",
   "execution_count": null,
   "metadata": {},
   "outputs": [],
   "source": [
    "profile_sub.get_event_handler().get_dataframe().head(3)"
   ]
  },
  {
   "cell_type": "markdown",
   "metadata": {},
   "source": [
    "### TimeAndSale\n",
    "Details: https://kb.dxfeed.com/display/DS/dxFeed+API+Market+Events#dxFeedAPIMarketEvents-TimeAndSale"
   ]
  },
  {
   "cell_type": "code",
   "execution_count": null,
   "metadata": {},
   "outputs": [],
   "source": [
    "tns_sub = endpoint.create_subscription('TimeAndSale').add_symbols(symbols)"
   ]
  },
  {
   "cell_type": "code",
   "execution_count": null,
   "metadata": {},
   "outputs": [],
   "source": [
    "tns_sub.get_event_handler().get_dataframe().head(3)"
   ]
  },
  {
   "cell_type": "markdown",
   "metadata": {},
   "source": [
    "### Candle\n",
    "Details: https://kb.dxfeed.com/display/DS/Charting+Overview#ChartingOverview-Candletypes\n",
    "\n",
    "For Candle event type along with base symbol, you should specify an aggregation period. You can also set price type. More details: https://kb.dxfeed.com/en/market-data-api/data-access-solutions/rest.html#candle-symbols."
   ]
  },
  {
   "cell_type": "code",
   "execution_count": null,
   "metadata": {},
   "outputs": [],
   "source": [
    "aggregated_symbols = [symbol + '{=d}' for symbol in symbols]\n",
    "print(aggregated_symbols)"
   ]
  },
  {
   "cell_type": "code",
   "execution_count": null,
   "metadata": {},
   "outputs": [],
   "source": [
    "candle_sub = endpoint.create_subscription('Candle', date_time=date_time).add_symbols(aggregated_symbols)"
   ]
  },
  {
   "cell_type": "code",
   "execution_count": null,
   "metadata": {},
   "outputs": [],
   "source": [
    "candle_sub.get_event_handler().get_dataframe().head(3)"
   ]
  },
  {
   "cell_type": "markdown",
   "metadata": {},
   "source": [
    "### Order\n",
    "Details: https://kb.dxfeed.com/display/DS/dxFeed+API+Market+Events#dxFeedAPIMarketEvents-Orders"
   ]
  },
  {
   "cell_type": "code",
   "execution_count": null,
   "metadata": {},
   "outputs": [],
   "source": [
    "order_sub = endpoint.create_subscription('Order').add_symbols(symbols)"
   ]
  },
  {
   "cell_type": "code",
   "execution_count": null,
   "metadata": {},
   "outputs": [],
   "source": [
    "order_sub.get_event_handler().get_dataframe().head(3)"
   ]
  },
  {
   "cell_type": "markdown",
   "metadata": {},
   "source": [
    "### Underlying\n",
    "Details: https://kb.dxfeed.com/display/DS/dxFeed+API+Market+Events#dxFeedAPIMarketEvents-Underlying"
   ]
  },
  {
   "cell_type": "code",
   "execution_count": null,
   "metadata": {},
   "outputs": [],
   "source": [
    "underlying_sub = endpoint.create_subscription('Underlying').add_symbols(symbols)"
   ]
  },
  {
   "cell_type": "code",
   "execution_count": null,
   "metadata": {},
   "outputs": [],
   "source": [
    "underlying_sub.get_event_handler().get_dataframe().head(3)"
   ]
  },
  {
   "cell_type": "markdown",
   "metadata": {},
   "source": [
    "### Series\n",
    "Snapshot of computed values that are available for all option series for a given underlying symbol based on the option prices on the market.\n",
    "List of properties: https://docs.dxfeed.com/dxfeed/api/com/dxfeed/event/option/Series.html"
   ]
  },
  {
   "cell_type": "code",
   "execution_count": null,
   "metadata": {},
   "outputs": [],
   "source": [
    "series_sub = endpoint.create_subscription('Series').add_symbols(symbols)"
   ]
  },
  {
   "cell_type": "code",
   "execution_count": null,
   "metadata": {},
   "outputs": [],
   "source": [
    "series_sub.get_event_handler().get_dataframe().head(3)"
   ]
  },
  {
   "cell_type": "markdown",
   "metadata": {},
   "source": [
    "### Option related event types (Greeks, TheoPrice)\n",
    "Following event types (Greeks, TheoPrice) deal with options. One of the properties of options is expiration, which affects the symbol name in DxFeed symbology. To make this example long-living, we will get a relevant option symbol from the DxFeed IPF service.\n",
    "\n",
    "IPF stands for Instrument Profile Format for a normalized view of dxFeed instrument metadata. \n",
    "You can read more about it at kb.dxfeed.com:\n",
    "https://kb.dxfeed.com/display/DS/Instrument+Profile+Format+Overview\n",
    "\n",
    "https://kb.dxfeed.com/display/DS/How+to+Request+IPF"
   ]
  },
  {
   "cell_type": "code",
   "execution_count": null,
   "metadata": {},
   "outputs": [],
   "source": [
    "import requests\n",
    "url = 'https://tools.dxfeed.com/ipf?TYPE=OPTION&UNDERLYING=AAPL&limit=1'\n",
    "r = requests.get(url, auth=('demo', 'demo'))\n",
    "option_symbol = r.text.split('\\n')[1].split(',')[1]\n",
    "print(option_symbol)"
   ]
  },
  {
   "cell_type": "markdown",
   "metadata": {},
   "source": [
    "### Greeks\n",
    "Details: https://kb.dxfeed.com/display/DS/dxFeed+API+Market+Events#dxFeedAPIMarketEvents-Greeks"
   ]
  },
  {
   "cell_type": "code",
   "execution_count": null,
   "metadata": {},
   "outputs": [],
   "source": [
    "greek_sub = endpoint.create_subscription('Greeks').add_symbols([option_symbol])"
   ]
  },
  {
   "cell_type": "code",
   "execution_count": null,
   "metadata": {},
   "outputs": [],
   "source": [
    "greek_sub.get_event_handler().get_dataframe().head(3)"
   ]
  },
  {
   "cell_type": "markdown",
   "metadata": {},
   "source": [
    "### TheoPrice\n",
    "Details: https://kb.dxfeed.com/display/DS/dxFeed+API+Market+Events#dxFeedAPIMarketEvents-TheoPrice"
   ]
  },
  {
   "cell_type": "code",
   "execution_count": null,
   "metadata": {},
   "outputs": [],
   "source": [
    "theo_sub = endpoint.create_subscription('TheoPrice').add_symbols([option_symbol])"
   ]
  },
  {
   "cell_type": "code",
   "execution_count": null,
   "metadata": {},
   "outputs": [],
   "source": [
    "theo_sub.get_event_handler().get_dataframe().head(3)"
   ]
  },
  {
   "cell_type": "markdown",
   "metadata": {},
   "source": [
    "### Close connection"
   ]
  },
  {
   "cell_type": "code",
   "execution_count": null,
   "metadata": {},
   "outputs": [],
   "source": [
    "endpoint.close_connection()\n",
    "print(f'Connection status: {endpoint.connection_status}')"
   ]
  }
 ],
 "metadata": {
  "kernelspec": {
   "display_name": "Python 3",
   "language": "python",
   "name": "python3"
  },
  "language_info": {
   "codemirror_mode": {
    "name": "ipython",
    "version": 3
   },
   "file_extension": ".py",
   "mimetype": "text/x-python",
   "name": "python",
   "nbconvert_exporter": "python",
   "pygments_lexer": "ipython3",
   "version": "3.7.3"
  }
 },
 "nbformat": 4,
 "nbformat_minor": 4
}
