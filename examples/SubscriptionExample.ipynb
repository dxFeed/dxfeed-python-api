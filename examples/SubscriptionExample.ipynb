{
 "cells": [
  {
   "cell_type": "markdown",
   "metadata": {},
   "source": [
    "## Quick start: Subscription Example"
   ]
  },
  {
   "cell_type": "markdown",
   "metadata": {},
   "source": [
    "There are three levels in the dxfeed package. The lowest is the C API library, the highest is Python wrapper classes.  Cython level in the middle aims to connect these two. Here we are going to look into Python level.\n",
    "\n",
    "Python level, in its turn, mainly consists of three class types:\n",
    "\n",
    "1. Endpoint\n",
    "2. Subscription\n",
    "3. EventHandler\n",
    "\n",
    "\n",
    "The **Endpoint** is responsible for connection management and  creating dependent classes, for\n",
    "example Subscription. One Endpoint may have several different\n",
    "Subscriptions, but each Subscription is related to one Endpoint.\n",
    "\n",
    "**Subscription** class sets the type of subscription (stream or timed), the type of\n",
    "events (e.g. Trade, Candle), etc.\n",
    "\n",
    "After you specified the data you want to receive, you have to specify\n",
    "how to process upcoming events. This is where the **EventHandler** class and\n",
    "its children come into play. Every time an event arrives Cython event\n",
    "listener will call ``self.update(event)`` method. You have to inherit\n",
    "from the EventHandler class and redefine the update method. Or you may\n",
    "use DefaultHandler which stores upcoming data in deque of the length\n",
    "100k."
   ]
  },
  {
   "cell_type": "markdown",
   "metadata": {},
   "source": [
    "### Import package"
   ]
  },
  {
   "cell_type": "code",
   "execution_count": null,
   "metadata": {},
   "outputs": [],
   "source": [
    "import dxfeed as dx\n",
    "from datetime import datetime  # for timed subscription"
   ]
  },
  {
   "cell_type": "markdown",
   "metadata": {},
   "source": [
    "### Configure and create connection with Endpoint class\n",
    "Create instance of Endpoint class which will connect provided address. "
   ]
  },
  {
   "cell_type": "code",
   "execution_count": null,
   "metadata": {},
   "outputs": [],
   "source": [
    "endpoint = dx.Endpoint('demo.dxfeed.com:7300')"
   ]
  },
  {
   "cell_type": "markdown",
   "metadata": {},
   "source": [
    "Endpoint instance contains information about the connection, e.g. connection address or status"
   ]
  },
  {
   "cell_type": "code",
   "execution_count": null,
   "metadata": {},
   "outputs": [],
   "source": [
    "print(f'Connected address: {endpoint.address}')\n",
    "print(f'Connection status: {endpoint.connection_status}')"
   ]
  },
  {
   "cell_type": "markdown",
   "metadata": {},
   "source": [
    "### Configure and create subscription\n",
    "You should specify event type. For timed subscription (conflated stream) you should also provide time to start subscription from."
   ]
  },
  {
   "cell_type": "code",
   "execution_count": null,
   "metadata": {},
   "outputs": [],
   "source": [
    "trade_sub = endpoint.create_subscription('Trade')"
   ]
  },
  {
   "cell_type": "markdown",
   "metadata": {},
   "source": [
    "**Set event handler** - class that process incoming events. Here we use default one"
   ]
  },
  {
   "cell_type": "code",
   "execution_count": null,
   "metadata": {},
   "outputs": [],
   "source": [
    "trade_handler = dx.DefaultHandler()\n",
    "trade_sub.set_event_handler(trade_handler);"
   ]
  },
  {
   "cell_type": "markdown",
   "metadata": {},
   "source": [
    "**Add tikers** you want to recieve events for"
   ]
  },
  {
   "cell_type": "code",
   "execution_count": null,
   "metadata": {},
   "outputs": [],
   "source": [
    "trade_sub = trade_sub.add_symbols(['C', 'IBM'])"
   ]
  },
  {
   "cell_type": "markdown",
   "metadata": {},
   "source": [
    "For timed subscription you should provide either datetime object or string. String might be incomlete, in this case you will get warning with how your provided date parsed automatically. For Candle event type along with base symbol, you should specify an aggregation period. You can also set price type. More details: https://kb.dxfeed.com/en/market-data-api/data-access-solutions/rest.html#candle-symbols."
   ]
  },
  {
   "cell_type": "code",
   "execution_count": null,
   "metadata": {},
   "outputs": [],
   "source": [
    "tns_sub = endpoint.create_subscription('TimeAndSale', date_time=datetime.now()) \\\n",
    "                  .add_symbols(['AMZN'])"
   ]
  },
  {
   "cell_type": "code",
   "execution_count": null,
   "metadata": {},
   "outputs": [],
   "source": [
    "candle_sub = endpoint.create_subscription('Candle', date_time='2020-04-16 13:05')\n",
    "candle_sub = candle_sub.add_symbols(['AAPL{=d}', 'MSFT{=d}'])"
   ]
  },
  {
   "cell_type": "markdown",
   "metadata": {},
   "source": [
    "**Note**\n",
    "Two previous subscriptions attached DefaultHandler implicitly. To retrieve instances just call `get_event_handler()` method."
   ]
  },
  {
   "cell_type": "code",
   "execution_count": null,
   "metadata": {},
   "outputs": [],
   "source": [
    "tns_handler = tns_sub.get_event_handler()\n",
    "candle_handler = candle_sub.get_event_handler()"
   ]
  },
  {
   "cell_type": "markdown",
   "metadata": {},
   "source": [
    "#### Subscription instance properties"
   ]
  },
  {
   "cell_type": "code",
   "execution_count": null,
   "metadata": {},
   "outputs": [],
   "source": [
    "print(f'TimeAndSale subscription event type: {tns_sub.event_type}')\n",
    "print(f'Candle subscription event type: {candle_sub.event_type}')\n",
    "print(f'Candle subscription symbols: {candle_sub.symbols}')"
   ]
  },
  {
   "cell_type": "markdown",
   "metadata": {},
   "source": [
    "### Access data from DefaultHandler instance\n",
    "You can get colums, list or dataframe.\n",
    "You are also allowed to write handler that stores no data."
   ]
  },
  {
   "cell_type": "code",
   "execution_count": null,
   "metadata": {
    "scrolled": true
   },
   "outputs": [],
   "source": [
    "print(f'Trade columns: {trade_handler.columns}')\n",
    "print(f'Candle columns: {candle_handler.columns}')"
   ]
  },
  {
   "cell_type": "code",
   "execution_count": null,
   "metadata": {
    "scrolled": true
   },
   "outputs": [],
   "source": [
    "candle_handler.get_list()[-5:]"
   ]
  },
  {
   "cell_type": "code",
   "execution_count": null,
   "metadata": {},
   "outputs": [],
   "source": [
    "candle_handler.get_dataframe().head(3)"
   ]
  },
  {
   "cell_type": "markdown",
   "metadata": {},
   "source": [
    "### Close subscription"
   ]
  },
  {
   "cell_type": "code",
   "execution_count": null,
   "metadata": {},
   "outputs": [],
   "source": [
    "trade_sub.close_subscription()\n",
    "tns_sub.close_subscription()\n",
    "candle_sub.close_subscription()"
   ]
  },
  {
   "cell_type": "markdown",
   "metadata": {},
   "source": [
    "### Close connection"
   ]
  },
  {
   "cell_type": "code",
   "execution_count": null,
   "metadata": {},
   "outputs": [],
   "source": [
    "endpoint.close_connection()\n",
    "print(f'Connection status: {endpoint.connection_status}')"
   ]
  }
 ],
 "metadata": {
  "kernelspec": {
   "display_name": "Python 3",
   "language": "python",
   "name": "python3"
  },
  "language_info": {
   "codemirror_mode": {
    "name": "ipython",
    "version": 3
   },
   "file_extension": ".py",
   "mimetype": "text/x-python",
   "name": "python",
   "nbconvert_exporter": "python",
   "pygments_lexer": "ipython3",
   "version": "3.7.3"
  }
 },
 "nbformat": 4,
 "nbformat_minor": 4
}