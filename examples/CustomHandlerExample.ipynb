{
 "cells": [
  {
   "cell_type": "markdown",
   "metadata": {},
   "source": [
    "## Quick start: Custom Handler Example\n",
    "\n",
    "Here we will look into custom event handler implementation. Unlike the Basic Usage example, we will not pay much attention to anything behind the handler.\n",
    "\n",
    "Handler is a special object inherited from dxfeed.EventHandler class. It is attached to the Subscription. When an event comes, internal structures call the update method of your handler with event as a parameter.  event is a list with data specific to each event type. For example, for the Trade event type: 'Symbol', 'Price', 'ExchangeCode', 'Size', 'Tick', 'Change', 'DayVolume', 'Time', 'IsETH'. More info here: https://kb.dxfeed.com/display/DS/dxFeed+API+Market+Events\n",
    "\n",
    "After adding symbols or attaching a default listener (what is actually done implicitly in the first case) list of one-word descriptions of event data is stored in columns field of your handler object, attached to Subscription.\n",
    "\n",
    "In this example, we will implement the event handler that prints price and volume changes for candle ask events. It also prints average volume change for the last 10 ask events.\n"
   ]
  },
  {
   "cell_type": "markdown",
   "metadata": {},
   "source": [
    "### Import package"
   ]
  },
  {
   "cell_type": "code",
   "execution_count": null,
   "metadata": {},
   "outputs": [],
   "source": [
    "import dxfeed as dx\n",
    "from dxfeed.core.utils.data_class import DequeWithLock # custom deque with thread lock\n",
    "from datetime import datetime  # for timed subscription\n",
    "from dateutil.relativedelta import relativedelta\n",
    "import numpy as np"
   ]
  },
  {
   "cell_type": "markdown",
   "metadata": {},
   "source": [
    "### Configure and create connection with Endpoint class\n",
    "Create instance of Endpoint class which will connect provided address. "
   ]
  },
  {
   "cell_type": "code",
   "execution_count": null,
   "metadata": {},
   "outputs": [],
   "source": [
    "endpoint = dx.Endpoint('demo.dxfeed.com:7300')"
   ]
  },
  {
   "cell_type": "markdown",
   "metadata": {},
   "source": [
    "### Configure and create subscription\n",
    "You should specify event type. For timed subscription (conflated stream) you should also provide time to start subscription from."
   ]
  },
  {
   "cell_type": "code",
   "execution_count": null,
   "metadata": {},
   "outputs": [],
   "source": [
    "candle_sub = endpoint.create_subscription('Candle', date_time=datetime.now() - relativedelta(days=3))"
   ]
  },
  {
   "cell_type": "code",
   "execution_count": null,
   "metadata": {},
   "outputs": [],
   "source": [
    "class DiffHandler(dx.EventHandler):\n",
    "    def __init__(self):\n",
    "        self.__prev_open = None\n",
    "        self.__prev_high = None\n",
    "        self.__prev_low = None\n",
    "        self.__prev_close = None\n",
    "        self.__prev_volume = None\n",
    "        self.volume_changes = DequeWithLock()\n",
    "        self.counter = 0\n",
    "        \n",
    "    def update(self, events):\n",
    "        for event in events:\n",
    "            if not np.isnan(event.ask_volume):  # AskVolume not nan\n",
    "                self.counter += 1\n",
    "                print(f'Symbol: {event.symbol}')\n",
    "                if self.counter == 1:\n",
    "                    self.__prev_open = event.open\n",
    "                    self.__prev_high = event.high\n",
    "                    self.__prev_low = event.low\n",
    "                    self.__prev_close = event.close\n",
    "                    self.__prev_volume = event.ask_volume\n",
    "                    print('First event processed')\n",
    "                    print('-------------------')\n",
    "                else:\n",
    "                    print(f'Open changed by: {event.open - self.__prev_open}')\n",
    "                    self.__prev_open = event.open\n",
    "                    print(f'High changed by: {event.high - self.__prev_high}')\n",
    "                    self.__prev_high = event.high\n",
    "                    print(f'Open changed by: {event.low - self.__prev_low}')\n",
    "                    self.__prev_low = event.low\n",
    "                    print(f'Close changed by: {event.close - self.__prev_close}')\n",
    "                    self.__prev_close = event.close\n",
    "                    # Volume logic\n",
    "                    vol_change = event.ask_volume - self.__prev_volume\n",
    "                    self.volume_changes.safe_append(vol_change)\n",
    "                    print(f'Volume changed by: {vol_change}, from {self.__prev_volume}, to {event.ask_volume}')\n",
    "                    self.__prev_volume = event.ask_volume\n",
    "                    print(f'Ask events prcessed: {self.counter}')\n",
    "                    print('-------------------')\n",
    "                    if self.counter % 10 == 0:\n",
    "                        print(f'Average volume change for 10 past ask events is: {sum(self.volume_changes) / len(self.volume_changes)}')\n",
    "                        self.volume_changes.clear()\n",
    "                        print('-------------------')"
   ]
  },
  {
   "cell_type": "markdown",
   "metadata": {},
   "source": [
    "For Candle event type along with base symbol, you should specify an aggregation period. You can also set price type. More details: https://kb.dxfeed.com/en/market-data-api/data-access-solutions/rest.html#candle-symbols"
   ]
  },
  {
   "cell_type": "code",
   "execution_count": null,
   "metadata": {},
   "outputs": [],
   "source": [
    "handler = DiffHandler()\n",
    "candle_sub.set_event_handler(handler).add_symbols(['AAPL{=d}']);"
   ]
  },
  {
   "cell_type": "markdown",
   "metadata": {},
   "source": [
    "### Close subscription"
   ]
  },
  {
   "cell_type": "code",
   "execution_count": null,
   "metadata": {},
   "outputs": [],
   "source": [
    "candle_sub.close_subscription()"
   ]
  },
  {
   "cell_type": "markdown",
   "metadata": {},
   "source": [
    "### Close connection"
   ]
  },
  {
   "cell_type": "code",
   "execution_count": null,
   "metadata": {},
   "outputs": [],
   "source": [
    "endpoint.close_connection()\n",
    "print(f'Connection status: {endpoint.connection_status}')"
   ]
  }
 ],
 "metadata": {
  "kernelspec": {
   "display_name": "Python 3",
   "language": "python",
   "name": "python3"
  },
  "language_info": {
   "codemirror_mode": {
    "name": "ipython",
    "version": 3
   },
   "file_extension": ".py",
   "mimetype": "text/x-python",
   "name": "python",
   "nbconvert_exporter": "python",
   "pygments_lexer": "ipython3",
   "version": "3.7.3"
  }
 },
 "nbformat": 4,
 "nbformat_minor": 4
}